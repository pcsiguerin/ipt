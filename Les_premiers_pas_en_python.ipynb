{
 "cells": [
  {
   "cell_type": "markdown",
   "metadata": {},
   "source": [
    "# Premiers pas en Python"
   ]
  },
  {
   "cell_type": "markdown",
   "metadata": {},
   "source": [
    "## Interface Pyzo : présentation"
   ]
  },
  {
   "cell_type": "markdown",
   "metadata": {},
   "source": [
    "Cette interface Pyzo fait apparaître\n",
    "\n",
    "- en haut: un premier shell. C'est une fenêtre destinée à l'exécution du script, autrement dit du programme proprement dit. On peut ouvrir plusieurs shells différents. L'onglet \"Python\" permet de visualiser depuis combien de temps un shell est ouvert, s'il est en exécution (\"Busy\") ou non (\"Ready\"). C'est dans ce shell que figureront les résultats (output) du script, ou éventuellement les messages d'erreurs (bugs).\n",
    "    \n",
    "- à gauche: une fenêtre d'interface plus grande dans laquelle nous allons pouvoir écrire nos scripts. Les lignes dans cette fenêtre sont numérotées, ce qui facilitera le debuggage du programme en cas d'erreur. On peut là encore ouvrir plusieurs programmes en même temps. Il n'y aura qu'une fenêtre active mais les onglets au-dessus donnent les noms des programmes ouverts.\n",
    "    \n",
    "- d'autres fenêtres en bas à droite : nous verrons bien plus tard leur utilité très relative\n",
    "- des boutons d'action : \"File et Edit\" pour gérer les fenêtres d'interface. A noter que dans l'onglet \"Edit\", la commande \"Find selection\" ou \"Find and Replace\" permet de rechercher un mot dans le script, ce qui peut faire gagner du temps parfois ; \"Run\" puis \"Run file\" permet de lancer l'exécution du script écrit dans la fenêtre active de l'interface. A noter que l'on peut régler par défaut la langue sur le français.\n",
    "\n",
    "Chaque programme écrit et sauvegardé, qu'il soit correct ou non syntaxiquement ou sémantiquement porte l'extension \".py\".\n",
    "    "
   ]
  },
  {
   "cell_type": "markdown",
   "metadata": {},
   "source": [
    "## Premiers scripts"
   ]
  },
  {
   "cell_type": "markdown",
   "metadata": {},
   "source": [
    "Nous allons commencer à rédiger des petits programmes Python. Bien entendu, ceux-ci seront au début complètement dépourvus d'intérêt. Au fur et à mesure, les choses gagneront en consistance et en efficacité pour atteindre des problèmes plus complexes."
   ]
  },
  {
   "cell_type": "markdown",
   "metadata": {},
   "source": [
    "### L'affectation ="
   ]
  },
  {
   "cell_type": "markdown",
   "metadata": {},
   "source": [
    "L'affectation est l'instruction qui permet d'assigner (on dit aussi affecter) à une variable une certaine valeur. \n",
    "Par exemple, dans le script suivant, la variable \"Valeur\" prend la valeur 2 :"
   ]
  },
  {
   "cell_type": "code",
   "execution_count": 1,
   "metadata": {},
   "outputs": [],
   "source": [
    "Valeur=2"
   ]
  },
  {
   "cell_type": "markdown",
   "metadata": {},
   "source": [
    "Cette instruction ne donne absolument rien à l'affichage, lors de l'exécution du shell, tout simplement car on vient de demander d'affecter à \"Valeur\" la valeur 2, mais en aucun cas d'afficher la valeur. Pour afficher un résultat, on écrit :"
   ]
  },
  {
   "cell_type": "code",
   "execution_count": 2,
   "metadata": {},
   "outputs": [
    {
     "name": "stdout",
     "output_type": "stream",
     "text": [
      "2\n"
     ]
    }
   ],
   "source": [
    "print(Valeur)"
   ]
  },
  {
   "cell_type": "markdown",
   "metadata": {},
   "source": [
    "On remarque que le mot-clé \"print\" prédéfini dans le logiciel Python apparaît en couleur.\n",
    "On peut effectuer plusieurs affectations les unes à la suite des autres, la dernière affectation pour une variable détruisant les affectations antérieures :"
   ]
  },
  {
   "cell_type": "code",
   "execution_count": 1,
   "metadata": {},
   "outputs": [
    {
     "name": "stdout",
     "output_type": "stream",
     "text": [
      "2 3\n",
      "43\n"
     ]
    }
   ],
   "source": [
    "Valeur1=2\n",
    "Valeur2=3\n",
    "print(Valeur1,Valeur2)\n",
    "Valeur2=43\n",
    "print(Valeur2)"
   ]
  },
  {
   "cell_type": "markdown",
   "metadata": {},
   "source": [
    "On peut également effectuer des affectations simultanées :"
   ]
  },
  {
   "cell_type": "code",
   "execution_count": 12,
   "metadata": {},
   "outputs": [
    {
     "name": "stdout",
     "output_type": "stream",
     "text": [
      "1 2\n"
     ]
    }
   ],
   "source": [
    "x,y=1,2\n",
    "print(x,y)"
   ]
  },
  {
   "cell_type": "markdown",
   "metadata": {},
   "source": [
    "L'instruction très utile \"a=a+1\" qui n'a aucun sens mathématique est très utile en informatique : "
   ]
  },
  {
   "cell_type": "code",
   "execution_count": 2,
   "metadata": {},
   "outputs": [
    {
     "ename": "NameError",
     "evalue": "name 'A' is not defined",
     "output_type": "error",
     "traceback": [
      "\u001b[1;31m---------------------------------------------------------------------------\u001b[0m\n\u001b[1;31mNameError\u001b[0m                                 Traceback (most recent call last)",
      "\u001b[1;32m<ipython-input-2-10a050619868>\u001b[0m in \u001b[0;36m<module>\u001b[1;34m()\u001b[0m\n\u001b[0;32m      2\u001b[0m \u001b[0ma\u001b[0m\u001b[1;33m=\u001b[0m\u001b[0ma\u001b[0m\u001b[1;33m+\u001b[0m\u001b[1;36m1\u001b[0m\u001b[1;33m\u001b[0m\u001b[0m\n\u001b[0;32m      3\u001b[0m \u001b[0mprint\u001b[0m\u001b[1;33m(\u001b[0m\u001b[0ma\u001b[0m\u001b[1;33m)\u001b[0m\u001b[1;33m\u001b[0m\u001b[0m\n\u001b[1;32m----> 4\u001b[1;33m \u001b[0mprint\u001b[0m\u001b[1;33m(\u001b[0m\u001b[0mA\u001b[0m\u001b[1;33m)\u001b[0m\u001b[1;33m\u001b[0m\u001b[0m\n\u001b[0m",
      "\u001b[1;31mNameError\u001b[0m: name 'A' is not defined"
     ]
    },
    {
     "name": "stdout",
     "output_type": "stream",
     "text": [
      "4\n"
     ]
    }
   ],
   "source": [
    "a=3\n",
    "a=a+1\n",
    "print(a)\n",
    "print(A) # la casse (distinction entre majuscules et minuscules) est prise en compte"
   ]
  },
  {
   "cell_type": "markdown",
   "metadata": {},
   "source": [
    "En première ligne, la valeur 3 est affectée dans la place mémoire \"a\". \n",
    "En deuxième ligne, l'ordinateut calcule \"a+1\" puis l'affecte dans la place mémoire \"a\" : la variable \"a\" devient donc égale à 4. On vient d'augmenter (on dit aussi incrémenter) la variable \"a\" d'une unité.\n",
    "La dernière ligne confirme le fait que le langage machine différencie les lettres minuscules et majuscules, d'où le message d'erreur.\n",
    "\n",
    "On aurait pu également utiliser la syntaxe suivante pour incrémenter ou décrémenter des variables :"
   ]
  },
  {
   "cell_type": "code",
   "execution_count": 5,
   "metadata": {},
   "outputs": [
    {
     "name": "stdout",
     "output_type": "stream",
     "text": [
      "4\n",
      "48\n",
      "150.0\n"
     ]
    }
   ],
   "source": [
    "b=3\n",
    "b+=1 # identique à b=b+1\n",
    "print(b)\n",
    "c=51\n",
    "c-=3 # identique à c=c-3\n",
    "print(c)\n",
    "d=100\n",
    "d*=3 # identique à d=3*d\n",
    "d/=2 # identique à d=d/2\n",
    "print(d)"
   ]
  },
  {
   "cell_type": "markdown",
   "metadata": {},
   "source": [
    "Revenons aux affectations simultanées. L'instruction :"
   ]
  },
  {
   "cell_type": "code",
   "execution_count": 18,
   "metadata": {},
   "outputs": [
    {
     "name": "stdout",
     "output_type": "stream",
     "text": [
      "32 10\n",
      "10 32\n"
     ]
    }
   ],
   "source": [
    "A,B=32,10\n",
    "print(A,B)\n",
    "A,B=B,A\n",
    "print(A,B)"
   ]
  },
  {
   "cell_type": "markdown",
   "metadata": {},
   "source": [
    "L'affectation croisée \"A,B=B,A\" permet en une seule ligne d'échanger les contenus des variables A et B. Tentons maintenant d'échanger deux variables A et B sans affectation multiple :"
   ]
  },
  {
   "cell_type": "code",
   "execution_count": 20,
   "metadata": {},
   "outputs": [
    {
     "name": "stdout",
     "output_type": "stream",
     "text": [
      "12 Bonjour\n",
      "Bonjour Bonjour\n"
     ]
    }
   ],
   "source": [
    "A=12\n",
    "B=\"Bonjour\"\n",
    "print(A,B)\n",
    "A=B\n",
    "B=A\n",
    "print(A,B)"
   ]
  },
  {
   "cell_type": "markdown",
   "metadata": {},
   "source": [
    "On a affecté à la variable B une valeur non numérique, mais une chaîne de caractère (entre guillemets). La troisième ligne confirme l'affectation pour \"A\" et \"B\".\n",
    "Cependant, la quatrième ligne efface de la mémoire la valeur de \"A\", de sorte que \"A\" devient égal à \"B\". L'instruction \"B=A\" est alors inutile. \n",
    "\n",
    "On dispose ici d'un exemple de script ne présentant aucune faute syntaxique, mais une faute sémantique grossière. Pour contourner ce problème, il faut avoir recours à une mémoire temporaire :"
   ]
  },
  {
   "cell_type": "code",
   "execution_count": 22,
   "metadata": {},
   "outputs": [
    {
     "name": "stdout",
     "output_type": "stream",
     "text": [
      "12 Bonjour\n",
      "Bonjour 12\n"
     ]
    }
   ],
   "source": [
    "A=12\n",
    "B=\"Bonjour\"\n",
    "print(A,B)\n",
    "memoire_Temp=A\n",
    "A=B\n",
    "B=memoire_Temp\n",
    "print(A,B)"
   ]
  },
  {
   "cell_type": "markdown",
   "metadata": {},
   "source": [
    "Nous remarquons que l'on peut mettre à peu près n'importe quel nom aux variables utilisées. Un conseil : utiliser des noms qui correspondent à la fonctionnalité de la variable. Utiliser également l'indiçage \"_\" pour séparer les différents mots d'une même variable. Traditionnellement, on utilise des noms de variables commençant par une minuscule et les premières lettres des autres mots après l'indiçage sont en majuscules, mais ceci n'est en rien une obligation."
   ]
  },
  {
   "cell_type": "markdown",
   "metadata": {},
   "source": [
    "L'affectation n'est pas rétroactive :"
   ]
  },
  {
   "cell_type": "code",
   "execution_count": 7,
   "metadata": {},
   "outputs": [
    {
     "name": "stdout",
     "output_type": "stream",
     "text": [
      "a= 2  et b= 4\n",
      "a= 4  et b= 4\n",
      "a= 5  et b= 4\n",
      "a= 4  et b= 4\n",
      "a= 4  et b= 9\n"
     ]
    }
   ],
   "source": [
    "a,b=2,4\n",
    "print(\"a=\",a,\" et b=\", b)\n",
    "a=b\n",
    "print(\"a=\",a,\" et b=\", b)\n",
    "a=5\n",
    "print(\"a=\",a,\" et b=\", b)   # dans un sens ...\n",
    "a=b\n",
    "print(\"a=\",a,\" et b=\", b)\n",
    "b=9\n",
    "print(\"a=\",a,\" et b=\", b)   # comme dans l'autre..."
   ]
  },
  {
   "cell_type": "markdown",
   "metadata": {},
   "source": [
    "## Premières notions sur les types"
   ]
  },
  {
   "cell_type": "markdown",
   "metadata": {},
   "source": [
    "En Python, chaque variable possède une <b>valeur</b> et un <b>type</b>. Nous avons rencontré déjà plusieurs types.   Voici un petit catalogue des types très utiles :\n",
    "\n",
    "- le type <b>entier</b> (type <b>int</b>) : ce sont les entiers relatifs\n",
    "\n",
    "- le type <b>réel</b> (type <b>float</b>) : ce sont les nombres à virgule flottante. Il est à noter qu'informatiquement, les nombres 2 et 2.0 sont différents, car ils ne correspondent pas au même type, bien qu'ils aient la même valeur numérique.\n",
    "\n",
    "- le type <b>complexe</b> (type <b>complex</b>) : notons qu'en Python le nombre imaginaire i se note j\n",
    "\n",
    "- le type <b>chaîne de caractères</b> (type <b>str</b>) : ce sont les chaînes de caractères reconnaissables grâce aux guillemets \" \" ou ' '\n",
    "\n",
    "- le type <b>booléen</b> (type <b>bool</b>) : ce sont les variables booléennes,c'est-à-dire correspondant aux assertions logiques Vrai (pour True) ou Faux (pour False)\n",
    "\n",
    "- les types <b>liste</b> (type <b>list</b>), uplets (type tuple), dictionnaires (type dict) : nous verrons ces types plus tard.\n"
   ]
  },
  {
   "cell_type": "markdown",
   "metadata": {},
   "source": [
    "On appelle <b>typage</b>, le procédé d'association implicité liant une variable au type de sa valeur affectée. En Python, le typage est fort et dynamique. Par ailleurs, on dit que le langage Pyhton est faiblement typé. Traduction :\n",
    "\n",
    "- le typage est <b>fort</b> car on ne peut pas faire n'importe quelle opérations entre objet de n'importe quel type. Dans le cas d'une addition entre deux types incompatibles (type int et type list par exemple), un message d'erreur sera renvoyé.\n",
    "\n",
    "- le typage est <b>dynamique</b> car lorsque l'on affecte à une variable \"Variable\" une valeur \"Valeur\" par l'instruction \"Variable = Valeur\", non seulement la valeur \"Valeur\" est placée dans la place mémoire \"Variable\" mais cette variable prend également le type de \"Valeur\".\n",
    "\n",
    "- Python est <b>faiblement typé</b> car une variable associée à un certain type peut, en cas de nouvelle affectation, changer de type."
   ]
  },
  {
   "cell_type": "code",
   "execution_count": 1,
   "metadata": {},
   "outputs": [
    {
     "ename": "TypeError",
     "evalue": "can only concatenate list (not \"int\") to list",
     "output_type": "error",
     "traceback": [
      "\u001b[1;31m---------------------------------------------------------------------------\u001b[0m\n\u001b[1;31mTypeError\u001b[0m                                 Traceback (most recent call last)",
      "\u001b[1;32m<ipython-input-1-14a49210f55a>\u001b[0m in \u001b[0;36m<module>\u001b[1;34m()\u001b[0m\n\u001b[0;32m      5\u001b[0m \u001b[0mprint\u001b[0m\u001b[1;33m(\u001b[0m\u001b[0ma\u001b[0m\u001b[1;33m,\u001b[0m\u001b[1;34m\"de type :\"\u001b[0m\u001b[1;33m,\u001b[0m\u001b[0mtype\u001b[0m\u001b[1;33m(\u001b[0m\u001b[0ma\u001b[0m\u001b[1;33m)\u001b[0m\u001b[1;33m)\u001b[0m \u001b[1;31m# faiblement typé : la variable a vient de changer de type\u001b[0m\u001b[1;33m\u001b[0m\u001b[0m\n\u001b[0;32m      6\u001b[0m \u001b[1;33m\u001b[0m\u001b[0m\n\u001b[1;32m----> 7\u001b[1;33m \u001b[0mprint\u001b[0m\u001b[1;33m(\u001b[0m\u001b[1;33m[\u001b[0m\u001b[1;36m8\u001b[0m\u001b[1;33m]\u001b[0m\u001b[1;33m+\u001b[0m\u001b[1;36m9\u001b[0m\u001b[1;33m)\u001b[0m \u001b[1;31m# typage fort\u001b[0m\u001b[1;33m\u001b[0m\u001b[0m\n\u001b[0m",
      "\u001b[1;31mTypeError\u001b[0m: can only concatenate list (not \"int\") to list"
     ]
    },
    {
     "name": "stdout",
     "output_type": "stream",
     "text": [
      "bonjour de type : <class 'str'>\n",
      "4 de type : <class 'int'>\n"
     ]
    }
   ],
   "source": [
    "a=\"bonjour\"\n",
    "print(a,\"de type :\",type(a)) #typage dynamique : la variable a est affectée au type \"chaîne de caractères\n",
    "\n",
    "a=4\n",
    "print(a,\"de type :\",type(a)) # faiblement typé : la variable a vient de changer de type\n",
    "\n",
    "print([8]+9) # typage fort"
   ]
  },
  {
   "cell_type": "code",
   "execution_count": 2,
   "metadata": {},
   "outputs": [
    {
     "name": "stdout",
     "output_type": "stream",
     "text": [
      "<class 'int'>\n",
      "<class 'float'>\n",
      "<class 'complex'>\n",
      "<class 'str'> <class 'str'>\n",
      "<class 'bool'> <class 'bool'> <class 'bool'>\n",
      "<class 'list'>\n",
      "<class 'tuple'>\n",
      "<class 'dict'>\n"
     ]
    }
   ],
   "source": [
    "## aperçu des principaux types utilisés en Python :\n",
    "\n",
    "print(type(3))\n",
    "print(type(3.))\n",
    "print(type(3.+2j))\n",
    "print(type(\"bonjour\"),type('autre chaîne de caractères'))\n",
    "print(type(3==2),type(2<=9),type(2<3))\n",
    "print(type([5,2,3,1,\"mot\"]))\n",
    "print(type((5,3,4,3,2,\"autre mot\")))\n",
    "print(type({\"Pomme\" : \"fruit\",\"Banane\" : \"fruit\",\"Courgette\" : \"légume\" }))"
   ]
  },
  {
   "cell_type": "markdown",
   "metadata": {},
   "source": [
    "### Les opérations sur les types int, float et complex"
   ]
  },
  {
   "cell_type": "markdown",
   "metadata": {},
   "source": [
    "Etant données deux variables, il est possible d'en former une troisième grâce à des opérations. Voici une description succinte des premières opérations utiles, sachant que bien d'autres seront vues par la suite, notamment sur les listes. Sur les entiers ou les nombres flottants : \n",
    "\n",
    "- les opérations d'addition (+), \n",
    "- de soustraction (-), \n",
    "- de multiplication (*), \n",
    "- d'exponentiation (**), \n",
    "- de division (/), \n",
    "- de quotient dans une division euclidienne (//), \n",
    "- de reste dans une division euclidienne (ou modulo %)"
   ]
  },
  {
   "cell_type": "code",
   "execution_count": 34,
   "metadata": {},
   "outputs": [
    {
     "name": "stdout",
     "output_type": "stream",
     "text": [
      "5.0\n",
      "-44\n",
      "9.0\n",
      "7.0\n",
      "1.7320508075688772\n",
      "81\n",
      "15.0\n",
      "9\n",
      "-11.0\n",
      "3\n",
      "2.299999999999998\n"
     ]
    }
   ],
   "source": [
    "print(2+3.) # entier + flottant est possible -> résultat flottant\n",
    "print(5-49) # entier - entier -> donne un entier\n",
    "print(63/7) # la division renvoie un flottant\n",
    "print(2*3.5) # entier * flottant -> résultat flottant\n",
    "print(3**0.5) # exponentiation avec un flottant donne un flottant\n",
    "print(3**4) # exponentiation avec des entiers donne un entier\n",
    "print(45/3) # division donne un flottant\n",
    "print(63//7) # division euclidienne donne un entier\n",
    "print(54.4//-5.3) # partie entière du quotient de type int\n",
    "print(67%4)   # car 67=4*16+3\n",
    "print(54%4.7) # car 54=4.7*11+2.3 [on voit déjà une erreur d'arrondi...]"
   ]
  },
  {
   "cell_type": "markdown",
   "metadata": {},
   "source": [
    "Il est à noter que l'on peut agrémenter le script de commentaires. Ceux-ci se reconnaissent à l'aide du symbole # : tout ce qui est après # est ignoré lors de la compilation. Ces commentaires sont utiles lors de scripts un peu longs, afin de faciliter la relecture du programme.\n",
    "Pour terminer provisoirement sur les entiers, on utilisera plus tard les fonctions mathématiques prédéfinies comme les fonctions trigonométriques (cos ou sin) la racine carrée (sqrt), le logarithme (ln) etc."
   ]
  },
  {
   "cell_type": "markdown",
   "metadata": {},
   "source": [
    "Les nombres complexes sont définis avec j"
   ]
  },
  {
   "cell_type": "code",
   "execution_count": 15,
   "metadata": {},
   "outputs": [
    {
     "name": "stdout",
     "output_type": "stream",
     "text": [
      "(2-2.3j)\n",
      "(15.899999999999999-10.6j)\n",
      "1j\n",
      "(0.20787957635076193+0j)\n"
     ]
    }
   ],
   "source": [
    "a=2+3j\n",
    "b=-5.3j\n",
    "print(a+b)\n",
    "print(a*b)\n",
    "c=complex(0,1)\n",
    "print(c)\n",
    "print(c**c)"
   ]
  },
  {
   "cell_type": "markdown",
   "metadata": {},
   "source": [
    "j ne doit pas être tout seul"
   ]
  },
  {
   "cell_type": "code",
   "execution_count": 10,
   "metadata": {},
   "outputs": [
    {
     "ename": "NameError",
     "evalue": "name 'j' is not defined",
     "output_type": "error",
     "traceback": [
      "\u001b[1;31m---------------------------------------------------------------------------\u001b[0m\n\u001b[1;31mNameError\u001b[0m                                 Traceback (most recent call last)",
      "\u001b[1;32m<ipython-input-10-6fd208865a37>\u001b[0m in \u001b[0;36m<module>\u001b[1;34m()\u001b[0m\n\u001b[1;32m----> 1\u001b[1;33m \u001b[0ma\u001b[0m\u001b[1;33m=\u001b[0m\u001b[1;36m1\u001b[0m\u001b[1;33m+\u001b[0m\u001b[0mj\u001b[0m\u001b[1;33m\u001b[0m\u001b[0m\n\u001b[0m",
      "\u001b[1;31mNameError\u001b[0m: name 'j' is not defined"
     ]
    }
   ],
   "source": [
    "a=1+j"
   ]
  },
  {
   "cell_type": "markdown",
   "metadata": {},
   "source": [
    "On peut calculer le module et l'argument d'un nombre complexe, ou bien récupérer sa partir réelle et imaginaire"
   ]
  },
  {
   "cell_type": "code",
   "execution_count": 6,
   "metadata": {},
   "outputs": [
    {
     "name": "stdout",
     "output_type": "stream",
     "text": [
      "1.0\n",
      "-2.0\n",
      "2.23606797749979\n",
      "-1.1071487177940904\n"
     ]
    }
   ],
   "source": [
    "a=1-2j\n",
    "# partie réelle et imaginaire\n",
    "print(a.real)\n",
    "print(a.imag)\n",
    "# module\n",
    "print(abs(a))\n",
    "# argument\n",
    "from cmath import phase\n",
    "print(phase(a)) # en radians"
   ]
  },
  {
   "cell_type": "markdown",
   "metadata": {},
   "source": [
    "### Les opérations sur le type str"
   ]
  },
  {
   "cell_type": "markdown",
   "metadata": {},
   "source": [
    "Continuons les opérations sur les chaînes de caractères: \n",
    "\n",
    "- opération de concaténation (+), \n",
    "- pas d'opération de soustraction ni de produit entre chaînes de caractères, \n",
    "- multiplication externe d'un entier par une chaîne de caractère (répétition du message), \n",
    "- calcul d'une longueur de chaîne (len()) : à noter que les espaces comptent dans le calcul du nombre de caractères, \n",
    "- extraction du k-ème caractère (Message[k]) en notant que le premier caractère porte l'indice 0 et que les calculs sont cycliques de -len(Message) [pour le premier terme] à len(Message)-1 [pour le dernier terme] En dehors de cette plage, un message d'erreur de sortie des limites possibles s'affiche. Nous verrons que ces calculs de longueur de terme dans une chaîne sont très similaires aux calculs que l'on peut faire sur des listes.\n",
    "- on peut comparer les chaînes de caractères entre elles. L'ordre utilisé est lexicographique (comme dans le dictionnaire)."
   ]
  },
  {
   "cell_type": "code",
   "execution_count": 9,
   "metadata": {},
   "outputs": [
    {
     "name": "stdout",
     "output_type": "stream",
     "text": [
      "Bonjour !Au revoir     !\n",
      "Bonjour !Bonjour !Bonjour !Bonjour !\n",
      "15\n",
      "!\n",
      "True\n",
      "True\n",
      "True\n",
      "False\n"
     ]
    }
   ],
   "source": [
    "Message1=\"Bonjour !\"\n",
    "Message2=\"Au revoir     !\"\n",
    "Message3=Message1+Message2\n",
    "print(Message3)\n",
    "#print(Message1*Message2)\n",
    "print(4*Message1)\n",
    "print(len(Message2))\n",
    "print(Message3[-1])\n",
    "print(\"Bonjour\"<\"bonjour\")   # majuscules placées avant  toutes les minuscules\n",
    "print(\"Bonjour\"<\"au revoir\")\n",
    "print(\"bonjour !\"<\"bonjour!\")  # caractère \" \" placé avant \"!\"\n",
    "print(\"Dictionnaire\"<\"Dico\")  #ordre lexicographique (en fait ordre par code ASCII sur les caractères)"
   ]
  },
  {
   "cell_type": "markdown",
   "metadata": {},
   "source": [
    "Il existe des caractères spéciaux qu'on ne peut pas entrer directement avec le clavier, on utilise des codes:\n",
    "\n",
    "- \\n pour le retour à la ligne\n",
    "- \\t pour une tabulation\n",
    "- \\\\\\\\ pour un backslash"
   ]
  },
  {
   "cell_type": "code",
   "execution_count": 4,
   "metadata": {},
   "outputs": [
    {
     "name": "stdout",
     "output_type": "stream",
     "text": [
      "Ce texte est long,\n",
      "je vais donc à la ligne. Après une \t tabulation, voilà la fin.\n"
     ]
    }
   ],
   "source": [
    "print(\"Ce texte est long,\\nje vais donc à la ligne. Après une \\t tabulation, voilà la fin.\")"
   ]
  },
  {
   "cell_type": "markdown",
   "metadata": {},
   "source": [
    "Remarque: pour écrire plusieurs variables (ou du texte et des variables) avec print, on les sépare par une virgule:"
   ]
  },
  {
   "cell_type": "code",
   "execution_count": 13,
   "metadata": {},
   "outputs": [
    {
     "name": "stdout",
     "output_type": "stream",
     "text": [
      "trois= 3\n",
      "trois=3\n"
     ]
    }
   ],
   "source": [
    "print(\"trois=\",3)\n",
    "print(\"trois=\",3,sep='')"
   ]
  },
  {
   "cell_type": "markdown",
   "metadata": {},
   "source": [
    "On peut aussi inclure des variables dans du texte à l'aide de commandes de formattage avec des pourcentages:"
   ]
  },
  {
   "cell_type": "code",
   "execution_count": 12,
   "metadata": {},
   "outputs": [
    {
     "name": "stdout",
     "output_type": "stream",
     "text": [
      "Voici un entier: 41\n",
      "Voici un réel: 0.666667\n",
      "Et maintenant avec 2 chiffres après la virgule: 0.67\n",
      "Et un entier affiché avec 4 chiffres:   41\n",
      "Un réel en format scientifique: 4.12456e-06\n",
      "Voici un entier: 4 et un réel: 3.123000\n"
     ]
    }
   ],
   "source": [
    "print(\"Voici un entier: %d\" % 41)\n",
    "print(\"Voici un réel: %f\" % (2/3))\n",
    "print(\"Et maintenant avec 2 chiffres après la virgule: %.2f\" % (2/3))\n",
    "print(\"Et un entier affiché avec 4 chiffres: %4d\" % 41)\n",
    "print(\"Un réel en format scientifique: %g\" % 412.456e-8)\n",
    "print(\"Voici un entier: %d et un réel: %f\" % (4,3.123)) "
   ]
  },
  {
   "cell_type": "markdown",
   "metadata": {},
   "source": [
    "Revenons aux chaînes de caractères. On peut opérer dessus d'autres fonctions plus complexes:"
   ]
  },
  {
   "cell_type": "markdown",
   "metadata": {},
   "source": [
    "- recherche de sous-chaîne"
   ]
  },
  {
   "cell_type": "code",
   "execution_count": 4,
   "metadata": {},
   "outputs": [
    {
     "name": "stdout",
     "output_type": "stream",
     "text": [
      "1\n",
      "-1\n",
      "12\n"
     ]
    }
   ],
   "source": [
    "message=\"Allez les bleus\"\n",
    "print(message.find(\"l\")) # index de la première occurrence de la lettre \"l\"\n",
    "print(message.find(\"w\")) # si \"w\" n'est pas trouvé, la fonction renvoie -1\n",
    "print(message.find(\"eus\"))"
   ]
  },
  {
   "cell_type": "markdown",
   "metadata": {},
   "source": [
    "- remplacement de sous-chaîne. La chaîne initiale n'est pas modifiée!"
   ]
  },
  {
   "cell_type": "code",
   "execution_count": 11,
   "metadata": {},
   "outputs": [
    {
     "name": "stdout",
     "output_type": "stream",
     "text": [
      "Awwez wes bweus\n",
      "Allez les bleus\n"
     ]
    }
   ],
   "source": [
    "message=\"Allez les bleus\"\n",
    "print(message.replace('l','w'))\n",
    "print(message)"
   ]
  },
  {
   "cell_type": "markdown",
   "metadata": {},
   "source": [
    "- concaténation de chaînes avec un séparateur"
   ]
  },
  {
   "cell_type": "code",
   "execution_count": 10,
   "metadata": {},
   "outputs": [
    {
     "name": "stdout",
     "output_type": "stream",
     "text": [
      "1;2;3\n"
     ]
    }
   ],
   "source": [
    "separateur=\";\"\n",
    "valeurs=[\"1\",\"2\",\"3\"]\n",
    "print(separateur.join(valeurs))"
   ]
  },
  {
   "cell_type": "markdown",
   "metadata": {},
   "source": [
    "- découpage d'une chaîne à un caractère donné"
   ]
  },
  {
   "cell_type": "code",
   "execution_count": 9,
   "metadata": {},
   "outputs": [
    {
     "name": "stdout",
     "output_type": "stream",
     "text": [
      "['Allez', 'les', 'bleus']\n"
     ]
    }
   ],
   "source": [
    "message=\"Allez les bleus\"\n",
    "print(message.split(' '))"
   ]
  },
  {
   "cell_type": "markdown",
   "metadata": {},
   "source": [
    "- mise en majuscules/minuscules"
   ]
  },
  {
   "cell_type": "code",
   "execution_count": 8,
   "metadata": {},
   "outputs": [
    {
     "name": "stdout",
     "output_type": "stream",
     "text": [
      "ALLEZ LES BLEUS\n",
      "allez les bleus\n",
      "Allez les bleus\n"
     ]
    }
   ],
   "source": [
    "message=\"Allez les Bleus\"\n",
    "print(message.upper())\n",
    "print(message.lower())\n",
    "print(message.capitalize())"
   ]
  },
  {
   "cell_type": "markdown",
   "metadata": {},
   "source": [
    "- effacement des espaces à droite ou à gauche (ce sera utile quand on lira des fichiers)"
   ]
  },
  {
   "cell_type": "code",
   "execution_count": 7,
   "metadata": {},
   "outputs": [
    {
     "name": "stdout",
     "output_type": "stream",
     "text": [
      "           Allez les bleus           \n",
      "Allez les bleus\n"
     ]
    }
   ],
   "source": [
    "message=\"           Allez les bleus           \"\n",
    "print(message)\n",
    "print(message.strip())"
   ]
  },
  {
   "cell_type": "markdown",
   "metadata": {},
   "source": [
    "etc..."
   ]
  },
  {
   "cell_type": "markdown",
   "metadata": {},
   "source": [
    "### Les opérations sur le type bool"
   ]
  },
  {
   "cell_type": "markdown",
   "metadata": {},
   "source": [
    "Pour la création de booléens, cela se fait le plus souvent par des tests de comparaison entre variables. Le résultat renvoyé est True si le test de comparaison est vrai et False sinon:\n",
    "\n",
    "- test d'égalité entre deux assertions P et Q : P==Q \n",
    "- test de différence entre deux assertions P et Q  : P!=Q\n",
    "- test d'inégalité stricte entre deux assertions P et Q : P&lt;Q ou P&gt;Q\n",
    "- test d'inégalité large entre deux assertions P et Q : P&lt;=Q ou P&gt;=Q\n",
    "- test d'intersection entre deux assertions P et Q : P and Q (les deux doivent être vraie simultanément)\n",
    "- test de réunion entre deux assertions P et Q : P or Q (l'une au moins des assertions doit être vraie)\n",
    "- la négation d'une assertion P : not P\n",
    "    \n",
    "Il est à noter la différence majeure entre les symboles == (condition) et = (affectation)."
   ]
  },
  {
   "cell_type": "code",
   "execution_count": 14,
   "metadata": {},
   "outputs": [
    {
     "name": "stdout",
     "output_type": "stream",
     "text": [
      "False\n",
      "True\n",
      "True\n",
      "False\n",
      "True\n",
      "False\n"
     ]
    }
   ],
   "source": [
    "P=\"Bonjour\"\n",
    "Q=\"Bonjour \"\n",
    "print((P==Q))\n",
    "print(len(P)< len(Q))\n",
    "R=\"Bonjour !\"\n",
    "print(2==2.)   # les variables n'ont pas le même type mais ont la même valeur\n",
    "print(P!= R and 2>3)\n",
    "print(P!=R or 2>3)\n",
    "print(not((len(Q)==len(R)-1)))"
   ]
  },
  {
   "cell_type": "markdown",
   "metadata": {},
   "source": [
    "## L'interaction avec l'utilisateur : input()"
   ]
  },
  {
   "cell_type": "markdown",
   "metadata": {},
   "source": [
    "L'instruction input() permet une interaction utilisateur-machine. La syntaxe objet=input(\"phrase\") affiche la phrase à l'écran et invite l'utilisateur à rentrer une donnée, laquelle sera mise en mémoire dans objet. Par défaut, l'input est mise sous le type 'str' c'est-à-dire chaine de caractères. Afin d'exploiter la donnée sous forme numérique ou autre, on peut utiliser la convertion \"int\", \"float\" ou autre."
   ]
  },
  {
   "cell_type": "markdown",
   "metadata": {},
   "source": [
    "### input() ne marche pas sous IPython; il fonctionne sous Pyzo."
   ]
  },
  {
   "cell_type": "code",
   "execution_count": 16,
   "metadata": {},
   "outputs": [
    {
     "name": "stdout",
     "output_type": "stream",
     "text": [
      "Entrer un messageBonjour\n",
      "<class 'str'>\n",
      "Bonjour\n",
      "Entrer un nombre entier naturel10\n",
      "10\n",
      "Entrer un nombre flottant2.3\n",
      "2.3\n",
      "Entrer un messagecoucou\n",
      "['c', 'o', 'u', 'c', 'o', 'u']\n"
     ]
    }
   ],
   "source": [
    "Entree=input(\"Entrer un message\")\n",
    "print(type(Entree)) # l'input est une chaîne de caractères \n",
    "print(Entree)\n",
    "\n",
    "Entree_Entier=int(input(\"Entrer un nombre entier naturel\")) # convertit  en entier\n",
    "print(Entree_Entier)\n",
    "\n",
    "Entree_Flottant=float(input(\"Entrer un nombre flottant\")) # convertit en flottant\n",
    "print(Entree_Flottant)\n",
    "\n",
    "Entree_Liste=list(input(\"Entrer un message\")) # convertit en liste\n",
    "print(Entree_Liste)"
   ]
  },
  {
   "cell_type": "code",
   "execution_count": null,
   "metadata": {
    "collapsed": true
   },
   "outputs": [],
   "source": []
  }
 ],
 "metadata": {
  "kernelspec": {
   "display_name": "Python 3",
   "language": "python",
   "name": "python3"
  },
  "language_info": {
   "codemirror_mode": {
    "name": "ipython",
    "version": 3
   },
   "file_extension": ".py",
   "mimetype": "text/x-python",
   "name": "python",
   "nbconvert_exporter": "python",
   "pygments_lexer": "ipython3",
   "version": "3.5.4"
  }
 },
 "nbformat": 4,
 "nbformat_minor": 1
}
